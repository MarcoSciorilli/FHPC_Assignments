{
 "cells": [
  {
   "cell_type": "code",
   "execution_count": 1,
   "metadata": {},
   "outputs": [],
   "source": [
    "import matplotlib.pyplot as plt \n",
    "import numpy as np"
   ]
  },
  {
   "cell_type": "code",
   "execution_count": 58,
   "metadata": {},
   "outputs": [],
   "source": [
    "data = np.loadtxt('/home/marco/Desktop/Assignment_2_all.txt') "
   ]
  },
  {
   "cell_type": "code",
   "execution_count": 80,
   "metadata": {},
   "outputs": [
    {
     "name": "stdout",
     "output_type": "stream",
     "text": [
      "1\n",
      "2\n",
      "3\n",
      "4\n",
      "5\n",
      "6\n",
      "7\n",
      "8\n",
      "9\n",
      "10\n",
      "11\n",
      "12\n",
      "13\n",
      "14\n",
      "15\n",
      "16\n",
      "17\n",
      "18\n",
      "19\n"
     ]
    }
   ],
   "source": [
    "finale_all=np.zeros((20,4))\n",
    "finale_all[0,0]=data[0,0]\n",
    "finale_all[0,1]=data[0,1]\n",
    "finale_all[0,2]=data[1,0]\n",
    "finale_all[0,3]=data[1,1]\n",
    "j=0\n",
    "for i in range(1,len(finale[:,])):\n",
    "    j=j+2\n",
    "    finale_all[i,0]=data[j,0]\n",
    "    finale_all[i,1]=data[j,1]\n",
    "    finale_all[i,2]=data[j+1,0]\n",
    "    finale_all[i,3]=data[j+1,1]"
   ]
  },
  {
   "cell_type": "code",
   "execution_count": 81,
   "metadata": {},
   "outputs": [
    {
     "data": {
      "text/plain": [
       "array([[ 1.      ,  0.673312,  2.332   ,  1.043   ],\n",
       "       [ 2.      ,  0.349827,  1.969   ,  1.181   ],\n",
       "       [ 3.      ,  0.339625,  2.014   ,  1.564   ],\n",
       "       [ 4.      ,  0.254346,  2.092   ,  1.527   ],\n",
       "       [ 5.      ,  0.253215,  2.159   ,  1.872   ],\n",
       "       [ 6.      ,  0.226564,  2.201   ,  2.043   ],\n",
       "       [ 7.      ,  0.245958,  2.58    ,  2.42    ],\n",
       "       [ 8.      ,  0.219014,  2.62    ,  2.493   ],\n",
       "       [ 9.      ,  0.223994,  2.75    ,  2.793   ],\n",
       "       [10.      ,  0.213661,  2.897   ,  2.959   ],\n",
       "       [11.      ,  0.228585,  3.      ,  3.947   ],\n",
       "       [12.      ,  0.238183,  3.243   ,  4.24    ],\n",
       "       [13.      ,  0.225845,  3.801   ,  4.422   ],\n",
       "       [14.      ,  0.269619,  4.073   ,  5.844   ],\n",
       "       [15.      ,  0.20982 ,  4.466   ,  4.511   ],\n",
       "       [16.      ,  0.219485,  4.828   ,  4.991   ],\n",
       "       [17.      ,  0.232723,  5.312   ,  7.464   ],\n",
       "       [18.      ,  0.235233,  3.706   ,  7.14    ],\n",
       "       [19.      ,  0.223455,  5.768   ,  7.899   ],\n",
       "       [20.      ,  0.21286 ,  6.184   ,  7.758   ]])"
      ]
     },
     "execution_count": 81,
     "metadata": {},
     "output_type": "execute_result"
    }
   ],
   "source": [
    "finale_all"
   ]
  },
  {
   "cell_type": "code",
   "execution_count": 3,
   "metadata": {},
   "outputs": [],
   "source": [
    "data = np.loadtxt('/home/marco/Desktop/Assignment_2_first.txt') "
   ]
  },
  {
   "cell_type": "code",
   "execution_count": 4,
   "metadata": {},
   "outputs": [
    {
     "name": "stdout",
     "output_type": "stream",
     "text": [
      "[[ 1.        0.74941 ]\n",
      " [ 2.        0.550438]\n",
      " [ 3.        0.443138]\n",
      " [ 4.        0.23135 ]\n",
      " [ 5.        0.217432]\n",
      " [ 6.        0.189725]\n",
      " [ 7.        0.423401]\n",
      " [ 8.        0.179381]\n",
      " [ 9.        0.431585]\n",
      " [10.        0.177888]\n",
      " [11.        0.185811]\n",
      " [12.        0.445935]\n",
      " [13.        0.439822]\n",
      " [14.        0.449893]\n",
      " [15.        0.186836]\n",
      " [16.        0.446562]\n",
      " [17.        0.439624]\n",
      " [18.        0.179087]\n",
      " [19.        0.442946]\n",
      " [20.        0.180747]\n",
      " [ 1.        0.749316]\n",
      " [ 2.        0.392256]\n",
      " [ 3.        0.289092]\n",
      " [ 4.        0.452383]\n",
      " [ 5.        0.217607]\n",
      " [ 6.        0.442731]\n",
      " [ 7.        0.197998]\n",
      " [ 8.        0.179979]\n",
      " [ 9.        0.434926]\n",
      " [10.        0.44505 ]\n",
      " [11.        0.435735]\n",
      " [12.        0.177623]\n",
      " [13.        0.439418]\n",
      " [14.        0.452348]\n",
      " [15.        0.185841]\n",
      " [16.        0.448976]\n",
      " [17.        0.186257]\n",
      " [18.        0.179402]\n",
      " [19.        0.445502]\n",
      " [20.        0.459119]\n",
      " [ 1.        0.749701]\n",
      " [ 2.        0.392288]\n",
      " [ 3.        0.445215]\n",
      " [ 4.        0.232223]\n",
      " [ 5.        0.218143]\n",
      " [ 6.        0.445678]\n",
      " [ 7.        0.198058]\n",
      " [ 8.        0.444416]\n",
      " [ 9.        0.432887]\n",
      " [10.        0.17714 ]\n",
      " [11.        0.438607]\n",
      " [12.        0.176335]\n",
      " [13.        0.186067]\n",
      " [14.        0.450441]\n",
      " [15.        0.440775]\n",
      " [16.        0.448913]\n",
      " [17.        0.18612 ]\n",
      " [18.        0.179797]\n",
      " [19.        0.187541]\n",
      " [20.        0.454286]\n",
      " [ 1.        0.749432]\n",
      " [ 2.        0.548965]\n",
      " [ 3.        0.443541]\n",
      " [ 4.        0.457615]\n",
      " [ 5.        0.420741]\n",
      " [ 6.        0.447151]\n",
      " [ 7.        0.197748]\n",
      " [ 8.        0.446224]\n",
      " [ 9.        0.190717]\n",
      " [10.        0.176985]\n",
      " [11.        0.429991]\n",
      " [12.        0.446824]\n",
      " [13.        0.442275]\n",
      " [14.        0.177529]\n",
      " [15.        0.186713]\n",
      " [16.        0.179675]\n",
      " [17.        0.441898]\n",
      " [18.        0.179759]\n",
      " [19.        0.445204]\n",
      " [20.        0.181435]\n",
      " [ 1.        0.749506]\n",
      " [ 2.        0.39244 ]\n",
      " [ 3.        0.443789]\n",
      " [ 4.        0.456757]\n",
      " [ 5.        0.218084]\n",
      " [ 6.        0.447774]\n",
      " [ 7.        0.197618]\n",
      " [ 8.        0.178734]\n",
      " [ 9.        0.434444]\n",
      " [10.        0.445448]\n",
      " [11.        0.42939 ]\n",
      " [12.        0.17626 ]\n",
      " [13.        0.187969]\n",
      " [14.        0.177497]\n",
      " [15.        0.439228]\n",
      " [16.        0.446996]\n",
      " [17.        0.186456]\n",
      " [18.        0.179465]\n",
      " [19.        0.442873]\n",
      " [20.        0.457833]\n",
      " [ 1.        0.750575]\n",
      " [ 2.        0.550424]\n",
      " [ 3.        0.287731]\n",
      " [ 4.        0.23047 ]\n",
      " [ 5.        0.413729]\n",
      " [ 6.        0.446043]\n",
      " [ 7.        0.423542]\n",
      " [ 8.        0.179607]\n",
      " [ 9.        0.190307]\n",
      " [10.        0.177148]\n",
      " [11.        0.434573]\n",
      " [12.        0.176121]\n",
      " [13.        0.43943 ]\n",
      " [14.        0.178526]\n",
      " [15.        0.186636]\n",
      " [16.        0.446952]\n",
      " [17.        0.443505]\n",
      " [18.        0.453809]\n",
      " [19.        0.188305]\n",
      " [20.        0.456821]\n",
      " [ 1.        0.750746]\n",
      " [ 2.        0.392246]\n",
      " [ 3.        0.443388]\n",
      " [ 4.        0.455744]\n",
      " [ 5.        0.218709]\n",
      " [ 6.        0.190529]\n",
      " [ 7.        0.197418]\n",
      " [ 8.        0.443819]\n",
      " [ 9.        0.19068 ]\n",
      " [10.        0.443858]\n",
      " [11.        0.186658]\n",
      " [12.        0.176532]\n",
      " [13.        0.43099 ]\n",
      " [14.        0.45033 ]\n",
      " [15.        0.439815]\n",
      " [16.        0.178386]\n",
      " [17.        0.44349 ]\n",
      " [18.        0.454811]\n",
      " [19.        0.186173]\n",
      " [20.        0.45772 ]\n",
      " [ 1.        0.749834]\n",
      " [ 2.        0.39127 ]\n",
      " [ 3.        0.28991 ]\n",
      " [ 4.        0.230306]\n",
      " [ 5.        0.417326]\n",
      " [ 6.        0.188909]\n",
      " [ 7.        0.424124]\n",
      " [ 8.        0.179944]\n",
      " [ 9.        0.191252]\n",
      " [10.        0.444882]\n",
      " [11.        0.427219]\n",
      " [12.        0.444535]\n",
      " [13.        0.185905]\n",
      " [14.        0.448844]\n",
      " [15.        0.439682]\n",
      " [16.        0.178514]\n",
      " [17.        0.443578]\n",
      " [18.        0.178887]\n",
      " [19.        0.185811]\n",
      " [20.        0.451471]\n",
      " [ 1.        0.74988 ]\n",
      " [ 2.        0.547643]\n",
      " [ 3.        0.289184]\n",
      " [ 4.        0.45349 ]\n",
      " [ 5.        0.217804]\n",
      " [ 6.        0.189605]\n",
      " [ 7.        0.425523]\n",
      " [ 8.        0.441186]\n",
      " [ 9.        0.429705]\n",
      " [10.        0.176997]\n",
      " [11.        0.435586]\n",
      " [12.        0.446741]\n",
      " [13.        0.186481]\n",
      " [14.        0.448105]\n",
      " [15.        0.185892]\n",
      " [16.        0.178672]\n",
      " [17.        0.444923]\n",
      " [18.        0.454784]\n",
      " [19.        0.444154]\n",
      " [20.        0.181644]\n",
      " [ 1.        0.750001]\n",
      " [ 2.        0.552427]\n",
      " [ 3.        0.288163]\n",
      " [ 4.        0.457874]\n",
      " [ 5.        0.420108]\n",
      " [ 6.        0.446183]\n",
      " [ 7.        0.198607]\n",
      " [ 8.        0.443815]\n",
      " [ 9.        0.432074]\n",
      " [10.        0.176506]\n",
      " [11.        0.438155]\n",
      " [12.        0.176742]\n",
      " [13.        0.185979]\n",
      " [14.        0.451355]\n",
      " [15.        0.442972]\n",
      " [16.        0.450406]\n",
      " [17.        0.187092]\n",
      " [18.        0.180395]\n",
      " [19.        0.185818]\n",
      " [20.        0.455087]\n",
      " [ 1.        0.749466]\n",
      " [ 2.        0.549467]\n",
      " [ 3.        0.444012]\n",
      " [ 4.        0.2302  ]\n",
      " [ 5.        0.418375]\n",
      " [ 6.        0.451473]\n",
      " [ 7.        0.197267]\n",
      " [ 8.        0.447992]\n",
      " [ 9.        0.191662]\n",
      " [10.        0.177206]\n",
      " [11.        0.438418]\n",
      " [12.        0.449249]\n",
      " [13.        0.434502]\n",
      " [14.        0.17781 ]\n",
      " [15.        0.186501]\n",
      " [16.        0.179268]\n",
      " [17.        0.44628 ]\n",
      " [18.        0.178235]\n",
      " [19.        0.444137]\n",
      " [20.        0.181063]\n",
      " [ 1.        0.750406]\n",
      " [ 2.        0.548874]\n",
      " [ 3.        0.443135]\n",
      " [ 4.        0.230043]\n",
      " [ 5.        0.415843]\n",
      " [ 6.        0.18876 ]\n",
      " [ 7.        0.197694]\n",
      " [ 8.        0.443844]\n",
      " [ 9.        0.431602]\n",
      " [10.        0.445216]\n",
      " [11.        0.186601]\n",
      " [12.        0.176367]\n",
      " [13.        0.187221]\n",
      " [14.        0.451122]\n",
      " [15.        0.186544]\n",
      " [16.        0.448743]\n",
      " [17.        0.185726]\n",
      " [18.        0.179538]\n",
      " [19.        0.445672]\n",
      " [20.        0.455168]\n",
      " [ 1.        0.749447]\n",
      " [ 2.        0.547028]\n",
      " [ 3.        0.28676 ]\n",
      " [ 4.        0.231469]\n",
      " [ 5.        0.419331]\n",
      " [ 6.        0.443662]\n",
      " [ 7.        0.423159]\n",
      " [ 8.        0.178936]\n",
      " [ 9.        0.19028 ]\n",
      " [10.        0.176452]\n",
      " [11.        0.42825 ]\n",
      " [12.        0.176722]\n",
      " [13.        0.430833]\n",
      " [14.        0.178793]\n",
      " [15.        0.186563]\n",
      " [16.        0.447677]\n",
      " [17.        0.442493]\n",
      " [18.        0.453384]\n",
      " [19.        0.186729]\n",
      " [20.        0.452473]\n",
      " [ 1.        0.7503  ]\n",
      " [ 2.        0.391024]\n",
      " [ 3.        0.444617]\n",
      " [ 4.        0.452146]\n",
      " [ 5.        0.415965]\n",
      " [ 6.        0.189303]\n",
      " [ 7.        0.197263]\n",
      " [ 8.        0.179331]\n",
      " [ 9.        0.432166]\n",
      " [10.        0.177242]\n",
      " [11.        0.427908]\n",
      " [12.        0.176275]\n",
      " [13.        0.431015]\n",
      " [14.        0.447963]\n",
      " [15.        0.440471]\n",
      " [16.        0.177847]\n",
      " [17.        0.445029]\n",
      " [18.        0.454408]\n",
      " [19.        0.186237]\n",
      " [20.        0.456142]]\n"
     ]
    }
   ],
   "source": [
    "print(data)"
   ]
  },
  {
   "cell_type": "code",
   "execution_count": null,
   "metadata": {},
   "outputs": [],
   "source": [
    "finale_first=np.zeros((20,4))\n",
    "finale_first[0,0]=data[0,0]\n",
    "finale_first[0,1]=data[0,1]\n",
    "finale_first[0,2]=data[1,0]\n",
    "finale_first[0,3]=data[1,1]\n",
    "j=0\n",
    "for i in range(1,len(finale[:,])):\n",
    "    j=j+2\n",
    "    finale_first[i,0]=data[j,0]\n",
    "    finale_first[i,1]=data[j,1]\n",
    "    finale_first[i,2]=data[j+1,0]\n",
    "    finale_first[i,3]=data[j+1,1]"
   ]
  },
  {
   "cell_type": "code",
   "execution_count": null,
   "metadata": {},
   "outputs": [],
   "source": []
  },
  {
   "cell_type": "code",
   "execution_count": 84,
   "metadata": {},
   "outputs": [
    {
     "data": {
      "image/png": "[encoded data removed]",
      "text/plain": [
       "<Figure size 432x288 with 1 Axes>"
      ]
     },
     "metadata": {
      "needs_background": "light"
     },
     "output_type": "display_data"
    }
   ],
   "source": [
    "plt.plot(finale_all[:,0],finale_all[0,1]/finale_all[:,1], label=\"Touch-by-All\")\n",
    "plt.plot(finale_first[:,0],finale_first[0,1]/finale_first[:,1], label=\"Touch-First\")\n",
    "plt.legend()\n",
    "plt.grid()\n",
    "plt.xlabel('# of processors')\n",
    "plt.ylabel('Speedup')\n",
    "plt.savefig('Speedup.svg', format='svg', dpi=1200)\n",
    "plt.show()"
   ]
  },
  {
   "cell_type": "code",
   "execution_count": 4,
   "metadata": {},
   "outputs": [],
   "source": [
    "data_all = np.loadtxt('/home/marco/Desktop/Assignment_2/Assignment_2_all.txt') \n",
    "data_first = np.loadtxt('/home/marco/Desktop/Assignment_2/Assignment_2_first.txt')"
   ]
  },
  {
   "cell_type": "code",
   "execution_count": 14,
   "metadata": {},
   "outputs": [
    {
     "ename": "SyntaxError",
     "evalue": "invalid syntax (<ipython-input-14-d781930d8b3c>, line 2)",
     "output_type": "error",
     "traceback": [
      "\u001b[0;36m  File \u001b[0;32m\"<ipython-input-14-d781930d8b3c>\"\u001b[0;36m, line \u001b[0;32m2\u001b[0m\n\u001b[0;31m    for n in range(len((data_first[]))):\u001b[0m\n\u001b[0m                                   ^\u001b[0m\n\u001b[0;31mSyntaxError\u001b[0m\u001b[0;31m:\u001b[0m invalid syntax\n"
     ]
    }
   ],
   "source": [
    "for i in range(20):\n",
    "    for n in range(len((data_first[]))):\n",
    "        #data_all[i,1] = data_all[i,1] + data_all[i+n*20,1]\n",
    "        data_first[i,1] = data_first[i,1] + data_first[i+n*20,1]\n",
    "    #data_alla[i,1] = data_alla[i,1]/(len(data_all[i,1])/20)\n",
    "    data_first[i,1] = data_first[i,1]/(len(data_first[i,1])/20)"
   ]
  },
  {
   "cell_type": "code",
   "execution_count": null,
   "metadata": {},
   "outputs": [],
   "source": []
  },
  {
   "cell_type": "code",
   "execution_count": 165,
   "metadata": {},
   "outputs": [
    {
     "data": {
      "image/png": "[encoded data removed]",
      "text/plain": [
       "<Figure size 432x288 with 1 Axes>"
      ]
     },
     "metadata": {
      "needs_background": "light"
     },
     "output_type": "display_data"
    }
   ],
   "source": [
    "axes = plt.gca()\n",
    "axes.set_xlim([1,20])\n",
    "axes.set_ylim([1,4.5])\n",
    "plt.plot(data_all[:,0],data_all[0,1]/data_all[:,1], label=\"Touch-by-All\", linewidth=1)\n",
    "plt.plot(data_first[:,0],data_first[0,1]/data_first[:,1], label=\"Touch-First\",linewidth=1)\n",
    "plt.legend()\n",
    "plt.grid()\n",
    "plt.xlabel('# of processors')\n",
    "plt.ylabel('Speedup')\n",
    "plt.savefig('Speedup.svg', format='svg', dpi=1200)\n",
    "plt.show()"
   ]
  },
  {
   "cell_type": "code",
   "execution_count": 166,
   "metadata": {},
   "outputs": [
    {
     "data": {
      "image/png": "[encoded data removed]",
      "text/plain": [
       "<Figure size 432x288 with 1 Axes>"
      ]
     },
     "metadata": {
      "needs_background": "light"
     },
     "output_type": "display_data"
    }
   ],
   "source": [
    "axes = plt.gca()\n",
    "axes.set_xlim([1,10])\n",
    "axes.set_ylim([1,5])\n",
    "plt.plot(data_all[:,0],data_all[0,1]/data_all[:,1], label=\"Touch-by-All\", linewidth=1)\n",
    "plt.plot(data_first[:,0],data_first[0,1]/data_first[:,1], label=\"Touch-First\",linewidth=1)\n",
    "plt.plot(data_first[:,0],data_first[:,0], label=\"Ideal\",linewidth=1)\n",
    "plt.legend()\n",
    "plt.grid()\n",
    "plt.xlabel('# of processors')\n",
    "plt.ylabel('Speedup')\n",
    "plt.savefig('Speedup.svg', format='svg', dpi=1200)\n",
    "plt.show()"
   ]
  },
  {
   "cell_type": "code",
   "execution_count": 167,
   "metadata": {
    "scrolled": true
   },
   "outputs": [
    {
     "data": {
      "image/png": "[encoded data removed]",
      "text/plain": [
       "<Figure size 432x288 with 1 Axes>"
      ]
     },
     "metadata": {
      "needs_background": "light"
     },
     "output_type": "display_data"
    }
   ],
   "source": [
    "axes = plt.gca()\n",
    "axes.set_xlim([2,20])\n",
    "axes.set_ylim([0,0.2])\n",
    "plt.plot(data_all[:,0],data_all[:,1]-data_all[0,1]/data_all[:,0], label=\"Touch-by-All\", linewidth=1)\n",
    "plt.plot(data_first[:,0],data_first[:,1]-data_first[0,1]/data_first[:,0], label=\"Touch-First\",linewidth=1)\n",
    "plt.legend()\n",
    "plt.grid()\n",
    "plt.xlabel('# of processors')\n",
    "plt.ylabel('Overhead')\n",
    "plt.savefig('Overhead.svg', format='svg', dpi=1200)\n",
    "plt.show()"
   ]
  },
  {
   "cell_type": "code",
   "execution_count": 163,
   "metadata": {},
   "outputs": [
    {
     "data": {
      "text/plain": [
       "array([ 1.,  2.,  3.,  4.,  5.,  6.,  7.,  8.,  9., 10., 11., 12., 13.,\n",
       "       14., 15., 16., 17., 18., 19., 20.])"
      ]
     },
     "execution_count": 163,
     "metadata": {},
     "output_type": "execute_result"
    }
   ],
   "source": [
    "data_first[:,0]"
   ]
  },
  {
   "cell_type": "code",
   "execution_count": null,
   "metadata": {},
   "outputs": [],
   "source": []
  }
 ],
 "metadata": {
  "kernelspec": {
   "display_name": "Python 3",
   "language": "python",
   "name": "python3"
  },
  "language_info": {
   "codemirror_mode": {
    "name": "ipython",
    "version": 3
   },
   "file_extension": ".py",
   "mimetype": "text/x-python",
   "name": "python",
   "nbconvert_exporter": "python",
   "pygments_lexer": "ipython3",
   "version": "3.7.5"
  }
 },
 "nbformat": 4,
 "nbformat_minor": 2
}
